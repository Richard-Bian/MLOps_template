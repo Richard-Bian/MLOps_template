{
 "cells": [
  {
   "cell_type": "markdown",
   "id": "b3def031-b513-4f26-9470-5e5d0ca75e51",
   "metadata": {
    "tags": []
   },
   "source": [
    "# Model Evaluation Template\n",
    "**Date:** 2023-08-15\n",
    "\n",
    "**Author:** bianshengtao1@jd.com"
   ]
  },
  {
   "cell_type": "markdown",
   "id": "94e6b92c-e3d6-47de-a6ea-86dd14e285f4",
   "metadata": {
    "tags": []
   },
   "source": [
    "## 1. Introduction\n",
    "Brief description of the problem and the objectives of this analysis."
   ]
  },
  {
   "cell_type": "markdown",
   "id": "afb0ae02-4b7b-4b4b-8008-c0dddd0c309e",
   "metadata": {
    "tags": []
   },
   "source": [
    "## 2. Load Libraries and Set constants"
   ]
  },
  {
   "cell_type": "markdown",
   "id": "8e86cbf1-d79d-4f14-975d-d2c7a4593b53",
   "metadata": {},
   "source": [
    "### 2.1 Load Libraries"
   ]
  },
  {
   "cell_type": "code",
   "execution_count": null,
   "id": "d4c5b435-f5c7-4bce-aa78-06ae653c9c4c",
   "metadata": {
    "tags": []
   },
   "outputs": [],
   "source": [
    "import pandas as pd\n",
    "import numpy as np\n",
    "import random\n",
    "from transformers import AutoTokenizer,AutoModel\n",
    "from pymilvus import connections, Collection, utility, FieldSchema, CollectionSchema, DataType\n",
    "from types import SimpleNamespace "
   ]
  },
  {
   "cell_type": "markdown",
   "id": "1cb64aed-2a27-4831-8323-0d0cd9fccc09",
   "metadata": {
    "tags": []
   },
   "source": [
    "### 2.2 Set Constants\n",
    "\n"
   ]
  },
  {
   "cell_type": "code",
   "execution_count": null,
   "id": "803ba545-eda9-4eef-9cb8-5c8e13d4d31f",
   "metadata": {
    "tags": []
   },
   "outputs": [],
   "source": [
    "TEST_DATA_DIR = \"./data/test_data.csv\"\n",
    "random.seed(42)\n",
    "MODEL_PATH = \"./model\"\n",
    "MILVUS_CONFIGURATION = {\n",
    "    \"alias_name\":\"default\",\n",
    "    \"host\":\"116.196.100.164\",\n",
    "    \"port\":\"30530\",\n",
    "    \"collection_name\":\"huaneng_test_tf_serving_0808\"\n",
    "    # Add other necessary parameters\n",
    "}\n",
    "milvus_configuration = SimpleNamespace(**MILVUS_CONFIGURATION)"
   ]
  },
  {
   "cell_type": "markdown",
   "id": "3b9b7b8d-6ba6-4993-b547-fd785ce5997c",
   "metadata": {},
   "source": [
    "## 3. Data Loading and Preprocessing"
   ]
  },
  {
   "cell_type": "markdown",
   "id": "da36ce62-d769-4092-9d57-ae3d137afd39",
   "metadata": {},
   "source": [
    "## 4. Load Model"
   ]
  },
  {
   "cell_type": "code",
   "execution_count": null,
   "id": "caef2559-4b4f-4be9-a6e8-d93a8083fda2",
   "metadata": {},
   "outputs": [],
   "source": [
    "tokenizer = AutoTokenizer.from_pretrained(MODEL_PATH)\n",
    "model = AutoModel.from_pretrained(MODEL_PATH)"
   ]
  },
  {
   "cell_type": "markdown",
   "id": "f94b8e6f-9da2-4d85-9ddb-1242b773862f",
   "metadata": {
    "tags": []
   },
   "source": [
    "## 5. Evaluation"
   ]
  },
  {
   "cell_type": "markdown",
   "id": "8eead6e0-eea4-41c3-9ea6-81060d19e191",
   "metadata": {},
   "source": [
    "## 6. Evaluation through Milvus(Optional)"
   ]
  },
  {
   "cell_type": "markdown",
   "id": "fc3e93e3-369e-4803-974f-48a149197bce",
   "metadata": {},
   "source": [
    "### 6.1 Connect Milvus"
   ]
  },
  {
   "cell_type": "code",
   "execution_count": null,
   "id": "a3d3366e-200c-4737-be96-6c55b5c74f21",
   "metadata": {
    "tags": []
   },
   "outputs": [],
   "source": [
    "connections.connect(\n",
    "                alias=milvus_configuration.alias_name,\n",
    "                host=milvus_configuration.host,\n",
    "                port=milvus_configuration.port)\n",
    "# print all collections \n",
    "utility.list_collections(using=milvus_configuration.alias_name)"
   ]
  },
  {
   "cell_type": "code",
   "execution_count": null,
   "id": "22e43ff4-0b57-4bff-b66f-e51c7db297dd",
   "metadata": {
    "tags": []
   },
   "outputs": [],
   "source": [
    "# Verify if the collection exists under the alias.\n",
    "utility.has_collection(milvus_configuration.collection_name, using=milvus_configuration.alias_name)"
   ]
  },
  {
   "cell_type": "code",
   "execution_count": null,
   "id": "795efb80-9629-4c6b-9f58-aea7014e28ef",
   "metadata": {
    "tags": []
   },
   "outputs": [],
   "source": [
    "milvus  = Collection(\n",
    "                alias=milvus_configuration.alias_name,\n",
    "                host=milvus_configuration.host,\n",
    "                port=milvus_configuration.port,\n",
    "                name = milvus_configuration.collection_name)"
   ]
  },
  {
   "cell_type": "code",
   "execution_count": null,
   "id": "949e7749-3540-460d-b79d-cd19b4152701",
   "metadata": {
    "tags": []
   },
   "outputs": [],
   "source": [
    "milvus.load()"
   ]
  },
  {
   "cell_type": "markdown",
   "id": "d2a3f04f-4517-4270-8326-95e3807a2ead",
   "metadata": {
    "tags": []
   },
   "source": [
    "### 6.2 Search from Milvus"
   ]
  },
  {
   "cell_type": "code",
   "execution_count": null,
   "id": "d2598a17-f911-48b7-abe0-8a0d06d7bbf7",
   "metadata": {
    "tags": []
   },
   "outputs": [],
   "source": [
    "search_params = {\"metric_type\": \"IP\", \"params\": {\"nprobe\": 10}}\n",
    "top_k = 10"
   ]
  },
  {
   "cell_type": "code",
   "execution_count": null,
   "id": "5a7cf069-1d29-4b36-82b4-c2d19ebf8878",
   "metadata": {
    "tags": []
   },
   "outputs": [],
   "source": [
    "results = milvus.search(\n",
    "              data=[[0.5]*768,[0.1]*768],\n",
    "              limit=top_k,\n",
    "              anns_field=\"category_embedding\", \n",
    "              param=search_params)"
   ]
  },
  {
   "cell_type": "code",
   "execution_count": null,
   "id": "35144c7f-7aa1-4cbc-9d8e-3ac213700db8",
   "metadata": {
    "tags": []
   },
   "outputs": [],
   "source": [
    "for result in results:\n",
    "    for res in result:\n",
    "        print(res.id,res.distance)"
   ]
  },
  {
   "cell_type": "markdown",
   "id": "b7effb63-cdd5-4ed3-9158-e2bf3704765f",
   "metadata": {
    "tags": []
   },
   "source": [
    "### 6.3 Evaluation through Milvus"
   ]
  },
  {
   "cell_type": "code",
   "execution_count": null,
   "id": "4eaaa169-9886-4b44-a1d2-f7df434fd94e",
   "metadata": {},
   "outputs": [],
   "source": []
  }
 ],
 "metadata": {
  "kernelspec": {
   "display_name": "bst",
   "language": "python",
   "name": "bst"
  },
  "language_info": {
   "codemirror_mode": {
    "name": "ipython",
    "version": 3
   },
   "file_extension": ".py",
   "mimetype": "text/x-python",
   "name": "python",
   "nbconvert_exporter": "python",
   "pygments_lexer": "ipython3",
   "version": "3.8.8"
  }
 },
 "nbformat": 4,
 "nbformat_minor": 5
}
