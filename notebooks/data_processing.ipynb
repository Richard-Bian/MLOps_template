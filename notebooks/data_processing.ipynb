{
 "cells": [
  {
   "cell_type": "markdown",
   "id": "24f25059-49ec-4cb4-a53b-3ff597bccd7c",
   "metadata": {
    "tags": []
   },
   "source": [
    "# Data Processing Template\n",
    "**Date:** 2023-08-15\n",
    "\n",
    "**Author:** example@example.com"
   ]
  },
  {
   "cell_type": "markdown",
   "id": "2e85e922-686a-484d-ba58-5e08ea6d38f0",
   "metadata": {
    "tags": []
   },
   "source": [
    "## 1. Introduction\n",
    "Brief description of the problem and the objectives of this analysis."
   ]
  },
  {
   "cell_type": "markdown",
   "id": "4e292725-63ec-440e-aa8b-48039d8a9736",
   "metadata": {
    "tags": []
   },
   "source": [
    "## 2. Load Libraries and Set constants"
   ]
  },
  {
   "cell_type": "markdown",
   "id": "d8cf2214-6de1-491d-bd13-0f4b041c40ad",
   "metadata": {},
   "source": [
    "### 2.1 Load Libraries"
   ]
  },
  {
   "cell_type": "code",
   "execution_count": null,
   "id": "c744ba37-bddd-4656-bc60-844a4dc13227",
   "metadata": {},
   "outputs": [],
   "source": [
    "import pandas as pd\n",
    "import numpy as np"
   ]
  },
  {
   "cell_type": "markdown",
   "id": "75b0c203-34eb-46a6-bcfc-b2753e9f044e",
   "metadata": {
    "tags": []
   },
   "source": [
    "### 2.2 Set Constants\n",
    "\n"
   ]
  },
  {
   "cell_type": "code",
   "execution_count": null,
   "id": "a37f667e-7aa7-4597-93f5-e1e357c566ae",
   "metadata": {},
   "outputs": [],
   "source": [
    "RAW_DATA_DIR = \"./data/data.csv\""
   ]
  },
  {
   "cell_type": "markdown",
   "id": "d925c9be-79d9-45aa-9db5-7d3cca4ab2aa",
   "metadata": {},
   "source": [
    "## 3. Data Loading and Overview"
   ]
  },
  {
   "cell_type": "markdown",
   "id": "bd2c2bf2-576e-4971-8c2f-dfc694c9e914",
   "metadata": {},
   "source": [
    "### 3.1 Load Data"
   ]
  },
  {
   "cell_type": "code",
   "execution_count": null,
   "id": "3fa4da29-c600-4167-bc9f-b9139192b033",
   "metadata": {},
   "outputs": [],
   "source": [
    "# Load the data (for example, from a CSV)\n",
    "data = pd.read_csv(DATA_DIR)"
   ]
  },
  {
   "cell_type": "markdown",
   "id": "b5d26ebc-0e75-43a3-84fd-17a1262f1de4",
   "metadata": {},
   "source": [
    "### 3.2 Preliminary Data Overview"
   ]
  },
  {
   "cell_type": "code",
   "execution_count": null,
   "id": "59287044-7f3d-4515-afed-acafdebcce24",
   "metadata": {},
   "outputs": [],
   "source": [
    "data.head()\n",
    "data.describe()\n",
    "data.info()"
   ]
  },
  {
   "cell_type": "markdown",
   "id": "d30322a6-9c80-40dc-a6fd-a1f39b2e91ec",
   "metadata": {},
   "source": [
    "## 4.Data Cleaning"
   ]
  },
  {
   "cell_type": "markdown",
   "id": "089d1dc9-370f-45cf-85c9-c5b76f655090",
   "metadata": {
    "tags": []
   },
   "source": [
    "### 4.1 Handle Missing Values"
   ]
  },
  {
   "cell_type": "markdown",
   "id": "332db68c-c46b-476a-bb97-be8e2d6a1d1a",
   "metadata": {},
   "source": [
    "### 4.2 Data Type Conversion"
   ]
  },
  {
   "cell_type": "markdown",
   "id": "61f7dc0a-690e-4efd-b1ee-cd1fd81afc94",
   "metadata": {},
   "source": [
    "### 4.3 Remove Duplicates"
   ]
  },
  {
   "cell_type": "markdown",
   "id": "8b426d25-9e3b-4ba7-9cd2-f75dbf51e90b",
   "metadata": {
    "tags": []
   },
   "source": [
    "## 5. Exploratory Data Analysis (Optional)"
   ]
  },
  {
   "cell_type": "markdown",
   "id": "d5b20daf-f268-4061-8335-7702580d3a7e",
   "metadata": {},
   "source": [
    "### 5.1 Univariate Analysis"
   ]
  },
  {
   "cell_type": "markdown",
   "id": "47b18453-3bff-4fc2-b4c7-aacdbeb4c43f",
   "metadata": {
    "tags": []
   },
   "source": [
    "### 5.2 Bivariate Analysis"
   ]
  },
  {
   "cell_type": "markdown",
   "id": "7081ba16-710b-4835-a830-46346971e0bb",
   "metadata": {},
   "source": [
    "### 5.3 Multivariate Analysis"
   ]
  },
  {
   "cell_type": "markdown",
   "id": "264b4bb8-9f08-4184-9b23-66b7702c4ba8",
   "metadata": {},
   "source": [
    "## 6. Data Preprocessing for Modeling"
   ]
  },
  {
   "cell_type": "markdown",
   "id": "f61662d8-78bc-4a97-8cd9-414d71123903",
   "metadata": {
    "tags": []
   },
   "source": [
    "### 6.1 Feature Engineering (Optional)"
   ]
  },
  {
   "cell_type": "markdown",
   "id": "bc8c72d4-a28f-4f63-8748-9efe0499172c",
   "metadata": {},
   "source": [
    "Create new variables."
   ]
  },
  {
   "cell_type": "markdown",
   "id": "88c80ef4-08e1-4288-82ce-ab5acf0404f7",
   "metadata": {},
   "source": [
    "### 6.2 Data Scaling and Transformation (Optional)"
   ]
  },
  {
   "cell_type": "markdown",
   "id": "40a85ea3-f681-487e-9310-2dec7c4f4301",
   "metadata": {},
   "source": [
    "Normalize or standardize data."
   ]
  },
  {
   "cell_type": "markdown",
   "id": "d49e0652-db7e-4f96-ac1c-d4db08a72a7f",
   "metadata": {},
   "source": [
    "### 6.3 Train-Test Split"
   ]
  },
  {
   "cell_type": "code",
   "execution_count": null,
   "id": "4a399b85-573f-4119-ba96-a394acec544c",
   "metadata": {},
   "outputs": [],
   "source": [
    "from sklearn.model_selection import train_test_split\n",
    "X_train, X_test, y_train, y_test = train_test_split(X, y, test_size=0.2)"
   ]
  },
  {
   "cell_type": "markdown",
   "id": "9a8fce1f-5a1a-4305-a395-0094366fb2ec",
   "metadata": {},
   "source": [
    "## 7. Save Data"
   ]
  },
  {
   "cell_type": "code",
   "execution_count": null,
   "id": "e6fa5c60-4ea3-4e00-89ba-71592c967a26",
   "metadata": {},
   "outputs": [],
   "source": [
    "data.to_csv(\"data.csv\")"
   ]
  },
  {
   "cell_type": "code",
   "execution_count": null,
   "id": "1c877493-46f0-4b01-9f62-474f847098c9",
   "metadata": {
    "tags": []
   },
   "outputs": [],
   "source": [
    "! pwd"
   ]
  },
  {
   "cell_type": "code",
   "execution_count": null,
   "id": "7fe338fc-a857-4bf7-99ed-9feaae0ab169",
   "metadata": {},
   "outputs": [],
   "source": []
  }
 ],
 "metadata": {
  "kernelspec": {
   "display_name": "bst",
   "language": "python",
   "name": "bst"
  },
  "language_info": {
   "codemirror_mode": {
    "name": "ipython",
    "version": 3
   },
   "file_extension": ".py",
   "mimetype": "text/x-python",
   "name": "python",
   "nbconvert_exporter": "python",
   "pygments_lexer": "ipython3",
   "version": "3.8.8"
  }
 },
 "nbformat": 4,
 "nbformat_minor": 5
}
