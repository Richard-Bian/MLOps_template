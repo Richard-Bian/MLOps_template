{
 "cells": [
  {
   "cell_type": "markdown",
   "id": "90552db2-eada-41f6-bcb2-6c0acdcecebc",
   "metadata": {
    "tags": []
   },
   "source": [
    "# TFServing Deployment Template\n",
    "**Date:** 2023-08-15\n",
    "\n",
    "**Author:** example@example.com"
   ]
  },
  {
   "cell_type": "markdown",
   "id": "95f2ba76-9366-4402-a628-e34a83ee0e67",
   "metadata": {
    "tags": []
   },
   "source": [
    "## 1. Introduction\n",
    "Brief description of the problem and the objectives of this analysis."
   ]
  },
  {
   "cell_type": "markdown",
   "id": "788bf944-9113-499f-962d-3062ebd25831",
   "metadata": {
    "tags": []
   },
   "source": [
    "## 2. Load Libraries and Set constants"
   ]
  },
  {
   "cell_type": "markdown",
   "id": "661c0e32-db66-4ef8-a639-c88cf2980e70",
   "metadata": {},
   "source": [
    "### 2.1 Load Libraries"
   ]
  },
  {
   "cell_type": "code",
   "execution_count": null,
   "id": "8559154f-5740-4b4d-b77a-240cd35afff7",
   "metadata": {},
   "outputs": [],
   "source": [
    "import tensorflow as tf\n",
    "from transformers import AutoTokenizer,AutoModel\n",
    "import os\n",
    "from getpass import getpass"
   ]
  },
  {
   "cell_type": "markdown",
   "id": "57d2035f-eb73-4ff1-953b-0f245310f9fd",
   "metadata": {
    "tags": []
   },
   "source": [
    "### 2.2 Set Constants\n",
    "\n"
   ]
  },
  {
   "cell_type": "code",
   "execution_count": null,
   "id": "e1621120-7cce-45c6-a960-c0fb57639bc9",
   "metadata": {},
   "outputs": [],
   "source": [
    "MODEL_PATH = \"model\"\n",
    "MODEL_VERSION = \"1\"\n",
    "MODEL_SAVE_PATH = f\"{MODEL_PATH}/{MODEL_VERSION}\"\n",
    "MODEL_NAME = \"embedding_model\"\n",
    "PORT = \"8501\" # \n",
    "STRING = \"这是一条测试用字符串\""
   ]
  },
  {
   "cell_type": "markdown",
   "id": "af8b369e-4595-427f-a502-e6e2520d2688",
   "metadata": {},
   "source": [
    "## 3. Save Model For TFServing"
   ]
  },
  {
   "cell_type": "markdown",
   "id": "e9f69ff3-efc3-467a-aeba-d6d2d529338d",
   "metadata": {},
   "source": [
    "### 3.1 Load Model"
   ]
  },
  {
   "cell_type": "code",
   "execution_count": null,
   "id": "b65dd167-165e-439e-b0c7-50ed42481310",
   "metadata": {
    "tags": []
   },
   "outputs": [],
   "source": [
    "model = AutoModel.from_pretrained(MODEL_PATH,from_pt = True)"
   ]
  },
  {
   "cell_type": "markdown",
   "id": "16387eb2-0b82-432e-9b6b-050927909385",
   "metadata": {
    "tags": []
   },
   "source": [
    "### 3.2 Transform To TF Model From PyTorch Model (Optional)"
   ]
  },
  {
   "cell_type": "markdown",
   "id": "7d116839-179f-47c7-94ad-e8598202ec1a",
   "metadata": {},
   "source": [
    "###  3.3 Save Model"
   ]
  },
  {
   "cell_type": "code",
   "execution_count": null,
   "id": "211fc9b1-da61-4670-9299-54755dbb75a6",
   "metadata": {},
   "outputs": [],
   "source": [
    "tf.saved_model.save(model,MODEL_SAVE_PATH)"
   ]
  },
  {
   "cell_type": "markdown",
   "id": "495411c9-ebcc-41b7-aa7e-eadb51a88d3b",
   "metadata": {},
   "source": [
    "## 4. Running the TensorFlow Serving Docker Image"
   ]
  },
  {
   "cell_type": "code",
   "execution_count": null,
   "id": "3e1a44d8-33d1-4e87-94d5-7c0581588dfd",
   "metadata": {},
   "outputs": [],
   "source": [
    "command = f\"sudo docker run -p {PORT}:8501 --name={MODEL_NAME} --mount type=bind,source={os.getcwd()}/{MODEL_SAVE_PATH},target=/models/{MODEL_NAME} -e MODEL_NAME={MODEL_NAME} -t tensorflow/serving\""
   ]
  },
  {
   "cell_type": "code",
   "execution_count": null,
   "id": "cc4ca3d6-1e5e-4c22-abd3-f6a990c5f639",
   "metadata": {
    "tags": []
   },
   "outputs": [],
   "source": [
    "!echo {getpass()} | sudo -S {command}"
   ]
  },
  {
   "cell_type": "markdown",
   "id": "b730d259-904f-4de2-99bf-6435da0e4f39",
   "metadata": {},
   "source": [
    "## 5. Testing the Served Model"
   ]
  },
  {
   "cell_type": "code",
   "execution_count": null,
   "id": "9ed3a95a-a0bb-4725-8d1f-9ff60a3adf1b",
   "metadata": {},
   "outputs": [],
   "source": [
    "tokenizer = AutoTokenizer.from_pretrained(MODEL_PATH)"
   ]
  },
  {
   "cell_type": "code",
   "execution_count": null,
   "id": "394a88b3-79f0-4420-acdf-1ca47153dabc",
   "metadata": {},
   "outputs": [],
   "source": [
    "def tokenize_data_to_request(datas: BatchEncoding) -> json:\n",
    "    \"\"\"\n",
    "    convert tokenize data into data that can be used to access\n",
    "    the sentence bert interface\n",
    "    :param datas: tokenize data\n",
    "    :return: data in json format\n",
    "    \"\"\"\n",
    "    tokenize_data_dict = {}\n",
    "    batch_size = 0\n",
    "    for k_name, data in datas.items():\n",
    "        tokenize_data_dict[k_name] = data\n",
    "        batch_size = len(data)\n",
    "    instances = []\n",
    "    for i in range(batch_size):\n",
    "        instance = collections.defaultdict(list)\n",
    "        for key in tokenize_data_dict.keys():\n",
    "            instance[key] = tokenize_data_dict[key][i]\n",
    "        instances.append(instance)\n",
    "\n",
    "    tokenize_data_json = json.dumps({\"instances\": instances})\n",
    "    return tokenize_data_json"
   ]
  },
  {
   "cell_type": "code",
   "execution_count": null,
   "id": "558fe693-378c-468c-a6fd-1754c8785514",
   "metadata": {},
   "outputs": [],
   "source": [
    "encoded_input = tokenizer(\n",
    "            [STRING],\n",
    "            padding=True,\n",
    "            truncation=True,\n",
    "            max_length=128\n",
    "    )\n",
    "re = requests.post(\n",
    "        url=f\"http://localhost:{PORT}/v1/models/{MODEL_NAME}:predict\",\n",
    "        data=tokenize_data_to_request(datas=encoded_input)\n",
    "    )"
   ]
  },
  {
   "cell_type": "code",
   "execution_count": null,
   "id": "d62c7c5d-6ea3-4df4-8260-1650906350d3",
   "metadata": {},
   "outputs": [],
   "source": [
    "predictions = json.loads(re.text)['predictions']\n",
    "print(predictions)"
   ]
  },
  {
   "cell_type": "code",
   "execution_count": null,
   "id": "77604740-a41e-4b42-8c48-6cf618e05eff",
   "metadata": {},
   "outputs": [],
   "source": []
  }
 ],
 "metadata": {
  "kernelspec": {
   "display_name": "bst",
   "language": "python",
   "name": "bst"
  },
  "language_info": {
   "codemirror_mode": {
    "name": "ipython",
    "version": 3
   },
   "file_extension": ".py",
   "mimetype": "text/x-python",
   "name": "python",
   "nbconvert_exporter": "python",
   "pygments_lexer": "ipython3",
   "version": "3.8.8"
  },
  "toc-autonumbering": false,
  "toc-showtags": false
 },
 "nbformat": 4,
 "nbformat_minor": 5
}
